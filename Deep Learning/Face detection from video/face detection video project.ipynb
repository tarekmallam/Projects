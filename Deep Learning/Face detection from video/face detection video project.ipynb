{
 "cells": [
  {
   "cell_type": "code",
   "execution_count": 1,
   "id": "46c30b5d",
   "metadata": {},
   "outputs": [],
   "source": [
    "import cv2"
   ]
  },
  {
   "cell_type": "code",
   "execution_count": 4,
   "id": "b1a340a4",
   "metadata": {},
   "outputs": [],
   "source": [
    "# Set desired width and height for the output video\n",
    "output_width = 340\n",
    "output_height = 80\n",
    "\n",
    "# Set desired frame rate (frames per second, FPS) for the output video\n",
    "output_fps = 1000\n",
    "\n",
    "# Load the pre-trained Haar Cascade classifier for face detection\n",
    "face_cascade = cv2.CascadeClassifier(cv2.data.haarcascades + 'haarcascade_frontalface_default.xml')\n",
    "\n",
    "# Open the video file\n",
    "video_path = 'video.mp4'  # Replace with the path to your video file\n",
    "video_capture = cv2.VideoCapture(video_path)\n",
    "\n",
    "# Check if the video file was opened successfully\n",
    "if not video_capture.isOpened():\n",
    "    print(\"Error: Could not open video file.\")\n",
    "    exit()\n",
    "\n",
    "# Set the scaled frame width and output height\n",
    "video_capture.set(cv2.CAP_PROP_FRAME_WIDTH, output_width)\n",
    "video_capture.set(cv2.CAP_PROP_FRAME_HEIGHT, output_height)\n",
    "\n",
    "# Set the frame rate of the output video\n",
    "video_capture.set(cv2.CAP_PROP_FPS, output_fps)\n",
    "\n",
    "while True:\n",
    "    # Capture frame-by-frame\n",
    "    ret, frame = video_capture.read()\n",
    "\n",
    "    # Check if the video frame was read successfully\n",
    "    if not ret:\n",
    "        break\n",
    "\n",
    "    # Convert the frame to grayscale\n",
    "    gray_frame = cv2.cvtColor(frame, cv2.COLOR_BGR2GRAY)\n",
    "\n",
    "    # Detect faces\n",
    "    faces = face_cascade.detectMultiScale(gray_frame, scaleFactor=1.1, minNeighbors=4, minSize=(30, 30))\n",
    "\n",
    "    # Draw rectangles around the detected faces\n",
    "    for (x, y, w, h) in faces:\n",
    "        cv2.rectangle(frame, (x, y), (x+w, y+h), (0, 255, 0), 2)\n",
    "\n",
    "    # Display the result\n",
    "    cv2.imshow('Video', frame)\n",
    "\n",
    "    # Break the loop if 'q' is pressed\n",
    "    if cv2.waitKey(1) & 0xFF == ord('q'):\n",
    "        break\n",
    "\n",
    "# Release the video capture device and close all OpenCV windows\n",
    "video_capture.release()\n",
    "cv2.destroyAllWindows()\n"
   ]
  },
  {
   "cell_type": "code",
   "execution_count": null,
   "id": "c3192e07",
   "metadata": {},
   "outputs": [],
   "source": [
    "# # Create VideoWriter object to save processed video\n",
    "# output_path = 'output_video.mp4'  # Replace with your desired output path\n",
    "# fourcc = cv2.VideoWriter_fourcc(*'mp4v')\n",
    "# output_video = cv2.VideoWriter(output_path, fourcc, output_fps, (output_width, output_height))"
   ]
  },
  {
   "cell_type": "code",
   "execution_count": null,
   "id": "9345b4c3",
   "metadata": {},
   "outputs": [],
   "source": []
  }
 ],
 "metadata": {
  "kernelspec": {
   "display_name": "Python 3 (ipykernel)",
   "language": "python",
   "name": "python3"
  },
  "language_info": {
   "codemirror_mode": {
    "name": "ipython",
    "version": 3
   },
   "file_extension": ".py",
   "mimetype": "text/x-python",
   "name": "python",
   "nbconvert_exporter": "python",
   "pygments_lexer": "ipython3",
   "version": "3.11.5"
  }
 },
 "nbformat": 4,
 "nbformat_minor": 5
}
